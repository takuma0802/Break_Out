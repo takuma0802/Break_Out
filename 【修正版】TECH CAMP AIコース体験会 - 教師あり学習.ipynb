{
 "cells": [
  {
   "cell_type": "markdown",
   "metadata": {},
   "source": [
    "# 機械学習に触れてみよう！"
   ]
  },
  {
   "cell_type": "markdown",
   "metadata": {},
   "source": [
    "**ポケモン**のデータを利用して、機械学習の体験を行なっていただきます。\n",
    "今回は、全てのポケモンの中から伝説のポケモンと非伝説のポケモンに分けてみましょう。\n",
    "\n",
    "これは機械学習のタスクの中でも、**教師あり学習**の**分類**という手法になります。"
   ]
  },
  {
   "attachments": {
    "8eb5cede0ba65191a84cbc0b18c0bf70.png": {
     "image/png": "[encoded data removed]"
    }
   },
   "cell_type": "markdown",
   "metadata": {},
   "source": [
    "![8eb5cede0ba65191a84cbc0b18c0bf70.png](attachment:8eb5cede0ba65191a84cbc0b18c0bf70.png)"
   ]
  },
  {
   "cell_type": "markdown",
   "metadata": {},
   "source": [
    "## データの読み込み\n",
    "\n",
    "今回使用するデータセットは、[ポケモンのデータセット](https://www.kaggle.com/abcsds/pokemon/data)を用います。**ライブラリ**を用いて、データセットの読み込みやデータの操作を行います。\n",
    "\n",
    "### ライブラリ\n",
    "\n",
    "まずは、ライブラリという言葉の定義と、Pythonでよく利用されるライブラリについて学習しましょう\n",
    "\n",
    "#### <i class=\"icon information\"></i> ライブラリとは\n",
    "\n",
    "ライブラリとは一言でいうと、***プログラムで書かれた便利でよく使われる処理の集まり***です。\n",
    "プログラムに何かの処理をさせたい時に自分で0からコードを書いて実現せず、**既に誰かが書いたコードを利用する**という手段がプログラミングではよく用いられます。ライブラリとして用意されているコードを用いることで、便利かつよく利用される処理を少ないコードの記述量で実現する事が出来ます。\n",
    "\n",
    "続いて、Pythonで機械学習をする上でよく利用されるライブラリを紹介します。\n",
    "\n",
    "#### <i class=\"icon information\"></i> NumPy\n",
    "\n",
    "**NumPy(ナムパイまたはナンパイ)**は、数値計算を効率的に行うためのライブラリです。行列を操作するために必要となります。NumPyを利用すると柔軟な配列操作を可能にします。他のPythonのライブラリーと連携しており、組み合わせて使うことが非常に多くなります。NumPyでは具体的には下記のようなことができます。\n",
    "\n",
    "```bash\n",
    "-配列を作成する\n",
    "-ある行、列だけを抽出する（インデックスで指定）\n",
    "-条件に合うデータだけ抽出する（条件式で指定）\n",
    "-配列を連結する（行方向、列方向）\n",
    "```\n",
    "\n",
    "[!!参考 Pythonの数値計算ライブラリ NumPy入門](http://rest-term.com/archives/2999/)\n",
    "\n",
    "### <i class=\"icon information\"></i> matplotlib\n",
    "\n",
    "Pythonでグラフを描画するためのライブラリです。読み込んだデータをグラフ上にプロット(散布)したり、棒線グラフや散布図のグラフを描画することが出来ます。\n",
    "\n",
    "\n",
    "### Pandas\n",
    "\n",
    "**Pandas(パンダス)**はデータ解析を支援する機能を提供するライブラリです。ファイルの書き込みや書き出し等もPandas内のメソッドを利用すると簡単に可能です。さらにデータの平均値や標準偏差をコマンド一つで求める事を可能にします。\n",
    "\n",
    "\n",
    "\n",
    "#### ライブラリの利用方法\n",
    "\n",
    "Pythonでライブラリを利用できるようにするには`import ライブラリー名 as 変数名`と書き込みます。\n",
    "\n",
    "#### <i class=\"icon information\"></i> import ライブラリー名 as 変数名\n",
    "\n",
    "Pythonでライブラリーを使用する時はimport(インポート)メソッドを使用します。`import ライブラリー名 as 変数名`のように使用し、importのすぐ右に読み込むライブラリー名を指定し、asの右にライブラリーを呼び出す時に使用する変数名を指定します。"
   ]
  },
  {
   "cell_type": "markdown",
   "metadata": {},
   "source": [
    "## 実際にコードを書いてみよう\n",
    "以下のCellの中にあるコードを、その下の空白のCellに打ち込んでみましょう。\n",
    "全て打ち込むことができたら、**Shift + Enter**を押すことでそのCellを実行することができます。\n",
    "\n",
    "###### ※実際のカリキュラムでは、今回出てくるような難しそうなコードを分かりやすく解説しております。\n",
    "###### 今回はコードの理解に努めるのではなく、機械学習の雰囲気を感じ取ってみてください。"
   ]
  },
  {
   "cell_type": "raw",
   "metadata": {},
   "source": [
    "※以下のコードを、下のCellに打ち込みましょう。\n",
    "\n",
    "# ライブラリのインポート\n",
    "import pandas as pd\n",
    "import numpy as np\n",
    "import matplotlib.pyplot as plt\n",
    "import os"
   ]
  },
  {
   "cell_type": "code",
   "execution_count": 51,
   "metadata": {
    "collapsed": true
   },
   "outputs": [],
   "source": [
    "# ここにコードを書きましょう。\n"
   ]
  },
  {
   "cell_type": "markdown",
   "metadata": {},
   "source": [
    "続いて、ポケモンのデータセットをpandasを使って読み込みます"
   ]
  },
  {
   "cell_type": "raw",
   "metadata": {},
   "source": [
    "file='data/pokemon.csv'\n",
    "origdf = pd.read_csv(file)"
   ]
  },
  {
   "cell_type": "code",
   "execution_count": 52,
   "metadata": {
    "collapsed": true
   },
   "outputs": [],
   "source": [
    "# ここにコードを書きましょう。\n"
   ]
  },
  {
   "cell_type": "markdown",
   "metadata": {},
   "source": [
    "データの読み込みが終わったらデータの中身を確認しましょう。今回のポケモンのデータはテーブル形式でインポートされています。"
   ]
  },
  {
   "cell_type": "raw",
   "metadata": {
    "scrolled": true
   },
   "source": [
    "origdf"
   ]
  },
  {
   "cell_type": "code",
   "execution_count": 53,
   "metadata": {
    "collapsed": true
   },
   "outputs": [],
   "source": [
    "# ここにコードを書きましょう。"
   ]
  },
  {
   "cell_type": "markdown",
   "metadata": {},
   "source": [
    "以下のように記載することで、特定のデータを取得したりできます。"
   ]
  },
  {
   "cell_type": "raw",
   "metadata": {},
   "source": [
    "#　初代最後のポケモンであるミュウの情報\n",
    "\n",
    "origdf[origdf['Name']=='Mew']"
   ]
  },
  {
   "cell_type": "code",
   "execution_count": 54,
   "metadata": {
    "collapsed": true
   },
   "outputs": [],
   "source": [
    "# ここにコードを書いてみましょう。\n"
   ]
  },
  {
   "cell_type": "markdown",
   "metadata": {},
   "source": [
    "次に、必要なデータのみを切り取り、それぞれの変数に代入します。"
   ]
  },
  {
   "cell_type": "raw",
   "metadata": {},
   "source": [
    "# 能力値を取得\n",
    "df=origdf.loc[:,['HP','Attack','Defense','Sp. Atk','Sp. Def','Speed']]\n",
    "\n",
    "#伝説のポケモンを取得 \n",
    "legendary=origdf.loc[:,['Legendary']]"
   ]
  },
  {
   "cell_type": "code",
   "execution_count": 55,
   "metadata": {
    "collapsed": true
   },
   "outputs": [],
   "source": [
    "# ここにコードを書いてみましょう。\n"
   ]
  },
  {
   "cell_type": "markdown",
   "metadata": {},
   "source": [
    "# 分類\n",
    "\n",
    "データを用意することができたので、実際にデータの学習を行なっていきます。"
   ]
  },
  {
   "cell_type": "markdown",
   "metadata": {},
   "source": [
    "ポケモンが持つ**[HP\tAttack\tDefense\tSp. Atk\tSp. Def\tSpeed]**の**特徴量**を元に**Legendary(伝説)**のポケモンかどうかの**2値分類**を行います。これ以下のコードでは分類を行うためにデータをトレーニングデータとテストデータに分割しています。\n",
    "\n",
    "### データの分割\n",
    "モデルを評価する上で、どのデータを用いて評価するのかというのが大事になります。モデルは学習データについて学習を行うのである程度良い結果が出るのは当然とも言えます。しかし大事なのは、**未知のデータに対しても同様に予測**できるかです。そのため**モデルを評価する際用いるデータは、学習に用いられていないデータ**であるべきといえます。\n",
    "そこで、学習を行う前の段階でモデルを評価する前に**トレーニングデータ(訓練用)**とデータを**テストデータ(評価用)**とに分割する必要があります。\n",
    "\n",
    "![https://tech-master.s3.amazonaws.com/uploads/curriculums//0789b394581c87891d81d41e9790aa07.png](https://tech-master.s3.amazonaws.com/uploads/curriculums//0789b394581c87891d81d41e9790aa07.png)\n",
    "\n",
    "[!!画像引用：GitHubGist](https://gist.github.com/Kakune/9cb64e7cd6176c84f86af153c9c003d2)\n",
    "\n",
    "\n",
    "以下のコードはデータの分割を行っています。(コードの内容について理解する必要はありません。)"
   ]
  },
  {
   "cell_type": "raw",
   "metadata": {},
   "source": [
    "# データの分割\n",
    "train_num=165+1   #初代までのポケモンで学習を行う  0~165の166個\n",
    "\n",
    "train_X = df.as_matrix()[:train_num]\n",
    "train_y  = legendary.as_matrix()[:train_num]\n",
    "\n",
    "test_X = df.as_matrix()[train_num:]\n",
    "test_y  = legendary.as_matrix()[train_num:]\n",
    "\n",
    "#train_name_index=name_index.as_matrix()[:train_num]\n",
    "#test_name_index=name_index.as_matrix()[train_num:]\n",
    "\n",
    "train_y = train_y.reshape(-1)\n",
    "test_y = test_y.reshape(-1)"
   ]
  },
  {
   "cell_type": "code",
   "execution_count": 56,
   "metadata": {
    "collapsed": true
   },
   "outputs": [],
   "source": [
    "# ここにコードを書いてみましょう。\n"
   ]
  },
  {
   "cell_type": "raw",
   "metadata": {},
   "source": [
    "# データの中身を確認するためにセル上に表示\n",
    "print('train_X:',train_X.shape)\n",
    "print('train_y:',train_y.shape)\n",
    "print('test_X:',test_X.shape)\n",
    "print('test_y:',test_y.shape)"
   ]
  },
  {
   "cell_type": "code",
   "execution_count": 57,
   "metadata": {
    "collapsed": true
   },
   "outputs": [],
   "source": [
    "# ここにコードを書いてみましょう。\n"
   ]
  },
  {
   "cell_type": "markdown",
   "metadata": {},
   "source": [
    "# K近傍法"
   ]
  },
  {
   "cell_type": "markdown",
   "metadata": {},
   "source": [
    "分類問題を解く手法は数多くあります。<br>\n",
    "中でも今回はもっとも初歩的な手法である**K近傍法**を体験してみたいと思います。"
   ]
  },
  {
   "cell_type": "markdown",
   "metadata": {},
   "source": [
    "アルゴリズムは非常に簡単で、<br>\n",
    "学習データをベクトル空間上にプロットしておき、未知のデータが得られたら、そこから距離が近い順に任意のK個を取得し、多数決でデータが属するクラスを推定します。<br>\n",
    "\n",
    "- １　既知のデータ(学習データ)を黄色と紫の丸としてプロットしておく。\n",
    "- ２　Kの数を決めておく。(K=3のように)\n",
    "- ３　未知のデータとして赤い星が得られたら、近い点からK個取得する。\n",
    "- ４　集まったK個の中で多数決を行い、属するクラスを推定する。\n",
    "\n",
    "今回は、未知の赤い星はClass Bに属すると推定できる。"
   ]
  },
  {
   "cell_type": "markdown",
   "metadata": {},
   "source": [
    "<img src ='img1/knn.png' width='400'>"
   ]
  },
  {
   "cell_type": "markdown",
   "metadata": {},
   "source": [
    "中でも今回は**学習データに偏りがある**ので、**K=1**とした**最近傍法**を用います。<br/>\n",
    "まずはscikit-learnを用いて、KNeighborsClassifierクラスをインポートしましょう。\n",
    "\n",
    "\n",
    "### <i class=\"icon information\"></i> scikit-learnとは\n",
    "scikit-learn(サイキットラーン)は、機械学習に特化したライブラリです。<br/>\n",
    "様々な分類、回帰、クラスタリングのアルゴリズムをすぐに利用できる様に準備している他、様々なデータセットもscikit-learn経由で読み込むことができます。<br/>\n",
    "基本的な機械学習アルゴリズムは全て実装がされています。\n",
    "[!!参考：scikit-learnの公式ドキュメント](http://scikit-learn.org/stable/tutorial/machine_learning_map/index.html)"
   ]
  },
  {
   "cell_type": "raw",
   "metadata": {},
   "source": [
    "# scikit-learnからKNeighborsClassifierクラスをインポートする\n",
    "from sklearn.neighbors import KNeighborsClassifier"
   ]
  },
  {
   "cell_type": "code",
   "execution_count": 58,
   "metadata": {
    "collapsed": true
   },
   "outputs": [],
   "source": [
    "# ここにコードを書いてみましょう。\n"
   ]
  },
  {
   "cell_type": "raw",
   "metadata": {},
   "source": [
    "model=KNeighborsClassifier(n_neighbors=1)\n",
    "# モデルにデータを学習させる\n",
    "model.fit(train_X,train_y)"
   ]
  },
  {
   "cell_type": "code",
   "execution_count": 59,
   "metadata": {
    "collapsed": true
   },
   "outputs": [],
   "source": [
    "# ここにコードを書いてみましょう。\n"
   ]
  },
  {
   "cell_type": "raw",
   "metadata": {},
   "source": [
    "#testデータの予測\n",
    "pred_y= model.predict(test_X)"
   ]
  },
  {
   "cell_type": "code",
   "execution_count": 60,
   "metadata": {
    "collapsed": true
   },
   "outputs": [],
   "source": [
    "# ここにコードを書いてみましょう。\n"
   ]
  },
  {
   "cell_type": "markdown",
   "metadata": {},
   "source": [
    "ここまでで、K近傍法モデルに対してデータの学習をさせることは出来ました。どの様に分類されたか結果を見てみましょう。<br/>\n",
    "K近傍法モデルが伝説のポケモンと予測したデータを画像で表示させるためのコードが下記です。"
   ]
  },
  {
   "cell_type": "raw",
   "metadata": {
    "scrolled": false
   },
   "source": [
    "# 結果の可視化\n",
    "\n",
    "# 伝説のポケモンと予測されたデータの取得\n",
    "nums = np.where(pred_y)[0]\n",
    "\n",
    "for i in range(pred_y.sum()):\n",
    "    row=pred_y.sum()//5+1\n",
    "    plt.subplot(row, 5, i+1)\n",
    "    \n",
    "    # 伝説であると予測したポケモンのindex(順番)\n",
    "    index=nums[i]+train_num  \n",
    "    \n",
    "    # 伝説のポケモンと予測したデータの画像を取得(長いのでCopy&Pasteしてしまいましょう。)\n",
    "    name=origdf.iloc[index]['Name']\n",
    "    num=origdf.iloc[index]['#']\n",
    "    print(name,num)\n",
    "    if 'Mega' in name:\n",
    "        #print(name)\n",
    "        image=plt.imread('img/{}-mega.png'.format(num))\n",
    "    elif 'Primal' in name:\n",
    "        image=plt.imread('img/{}-primal.png'.format(num))\n",
    "    elif 'Normal Forme' in name:\n",
    "         image=plt.imread('img/{}-normal.png'.format(num))\n",
    "    elif 'Attack Forme' in name:\n",
    "         image=plt.imread('img/{}-attack.png'.format(num))\n",
    "    elif 'Defense Forme' in name:\n",
    "         image=plt.imread('img/{}-defense.png'.format(num))\n",
    "    elif 'Incarnate' in name:\n",
    "         image=plt.imread('img/{}-incarnate.png'.format(num))\n",
    "    elif 'Therian' in name:\n",
    "        image=plt.imread('img/{}-therian.png'.format(num))\n",
    "    elif 'White' in name:\n",
    "        image=plt.imread('img/{}-white.png'.format(num))\n",
    "    elif 'Black' in name:\n",
    "        image=plt.imread('img/{}-black.png'.format(num))\n",
    "    elif 'Ordinary' in name:\n",
    "        image=plt.imread('img/{}-ordinary.png'.format(num))\n",
    "    elif 'Resolute' in name:\n",
    "        image=plt.imread('img/{}-resolute.png'.format(num))\n",
    "    elif 'Pirouette' in name:\n",
    "        image=plt.imread('img/{}-Pirouette.png'.format(num))\n",
    "    else:\n",
    "        image=plt.imread('img/{}.png'.format(num))\n",
    "        \n",
    "    plt.axis(\"off\")\n",
    "    plt.imshow(image)\n",
    "    \n",
    "plt.show()"
   ]
  },
  {
   "cell_type": "code",
   "execution_count": 61,
   "metadata": {
    "collapsed": true
   },
   "outputs": [],
   "source": [
    "# ここにコードを書いてみましょう。\n"
   ]
  },
  {
   "cell_type": "markdown",
   "metadata": {},
   "source": [
    "表示された画像がK近傍で伝説のポケモンとされたポケモンたちの画像です。<br/>\n",
    "この結果は正しいのでしょうか？それを評価するコードが以下です。"
   ]
  },
  {
   "cell_type": "raw",
   "metadata": {},
   "source": [
    "from sklearn.metrics import accuracy_score\n",
    "print('誤分類の個数： %d' % (test_y != pred_y).sum())\n",
    "print(\"正答率： %.2f\" % accuracy_score(test_y, pred_y))"
   ]
  },
  {
   "cell_type": "code",
   "execution_count": 62,
   "metadata": {
    "collapsed": true
   },
   "outputs": [],
   "source": [
    "# ここにコードを書いてみましょう。\n"
   ]
  },
  {
   "cell_type": "markdown",
   "metadata": {},
   "source": [
    "間違えて予測してしまったデータ数が52個、全体の正答率は92%という結果が出ましたのでまずまずのようです。<br/>\n",
    "次は、実際の予測結果をグラフで可視化してみましょう。"
   ]
  },
  {
   "cell_type": "raw",
   "metadata": {},
   "source": [
    " # 結果の評価\n",
    "from sklearn.metrics import confusion_matrix\n",
    "import itertools\n",
    "\n",
    "def plot_confusion_matrix(cm, classes,\n",
    "                          normalize=False,\n",
    "                          title='Confusion matrix',\n",
    "                          cmap=plt.cm.Blues):\n",
    "  \n",
    "    plt.imshow(cm, interpolation='nearest', cmap=cmap)\n",
    "    plt.title(title)\n",
    "    plt.colorbar()\n",
    "    tick_marks = np.arange(len(classes))\n",
    "    plt.xticks(tick_marks, classes, rotation=45)\n",
    "    plt.yticks(tick_marks, classes)\n",
    "\n",
    "    fmt = '.2f' if normalize else 'd'\n",
    "    thresh = cm.max() / 2.\n",
    "    for i, j in itertools.product(range(cm.shape[0]), range(cm.shape[1])):\n",
    "        plt.text(j, i, format(cm[i, j], fmt),\n",
    "                 horizontalalignment=\"center\",\n",
    "                 color=\"white\" if cm[i, j] > thresh else \"black\")\n",
    "\n",
    "    plt.tight_layout()\n",
    "    plt.ylabel('True label')\n",
    "    plt.xlabel('Predicted label')\n",
    "    plt.show()"
   ]
  },
  {
   "cell_type": "code",
   "execution_count": 63,
   "metadata": {
    "collapsed": true
   },
   "outputs": [],
   "source": [
    "# ここにコードを書いてみましょう。\n"
   ]
  },
  {
   "cell_type": "markdown",
   "metadata": {},
   "source": [
    "続いて、混合行列で結果を可視化してみます。"
   ]
  },
  {
   "cell_type": "raw",
   "metadata": {},
   "source": [
    "cnf_matrix = confusion_matrix(test_y, pred_y)\n",
    "classes=['Not Legend','legend']\n",
    "plot_confusion_matrix(cnf_matrix,classes)"
   ]
  },
  {
   "cell_type": "code",
   "execution_count": 64,
   "metadata": {
    "collapsed": true
   },
   "outputs": [],
   "source": [
    "# ここにコードを書いてみましょう。\n"
   ]
  },
  {
   "cell_type": "markdown",
   "metadata": {},
   "source": [
    "上記の混合行列の結果は以下のようになっています。\n",
    "\n",
    "- 非伝説を非伝説と推測したが563\n",
    "- 非伝説を伝説と推測したが12\n",
    "- 伝説を伝説と推測したが19\n",
    "- 伝説を非伝説と推測したが40<br/>\n",
    "という結果になりました。\n",
    "\n",
    "今後もっと様々な手法を用いることでこれらの精度を上げて行くことができます。"
   ]
  },
  {
   "cell_type": "markdown",
   "metadata": {},
   "source": [
    "## お疲れ様でした！\n",
    "##### これでAIコースの体験会カリキュラムは終了となります。メンターに終わったことを報告してください。"
   ]
  }
 ],
 "metadata": {
  "anaconda-cloud": {},
  "kernelspec": {
   "display_name": "Python 3",
   "language": "python",
   "name": "python3"
  },
  "language_info": {
   "codemirror_mode": {
    "name": "ipython",
    "version": 3
   },
   "file_extension": ".py",
   "mimetype": "text/x-python",
   "name": "python",
   "nbconvert_exporter": "python",
   "pygments_lexer": "ipython3",
   "version": "3.6.2"
  }
 },
 "nbformat": 4,
 "nbformat_minor": 1
}
